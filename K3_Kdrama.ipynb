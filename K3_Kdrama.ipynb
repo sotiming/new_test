{
 "cells": [
  {
   "cell_type": "code",
   "execution_count": 9,
   "id": "38795ca8",
   "metadata": {
    "ExecuteTime": {
     "end_time": "2022-09-30T04:24:31.447836Z",
     "start_time": "2022-09-30T04:24:29.552511Z"
    }
   },
   "outputs": [],
   "source": [
    "import pandas as pd\n",
    "import numpy as np\n",
    "import os\n",
    "import matplotlib.pyplot as plt\n",
    "import matplotlib.font_manager as fmb\n",
    "import missingno as msno"
   ]
  },
  {
   "cell_type": "markdown",
   "id": "a06deacf",
   "metadata": {},
   "source": [
    "# 2020년 연령별 K-drama 선호도 조사\n",
    "- 가설 : 4-9세의 K-drama 선호도는 50년대와 상관관계가 높을 것이다.\n",
    "- 가설 수립 이유 : 4-9세 시청율이 가장 높았던 드라마 제목이 '한번다녀왔습니다.'였기에, 부모와 함께 시청할 것이라 생각하고 50세의 시청율과 비교해보기로 함.                   "
   ]
  },
  {
   "cell_type": "markdown",
   "id": "c4f30820",
   "metadata": {},
   "source": [
    "## 데이터 병합"
   ]
  },
  {
   "cell_type": "code",
   "execution_count": 48,
   "id": "f4e45e93",
   "metadata": {
    "ExecuteTime": {
     "end_time": "2022-09-30T01:20:00.417595Z",
     "start_time": "2022-09-30T01:20:00.408018Z"
    }
   },
   "outputs": [
    {
     "data": {
      "text/plain": [
       "['TN_K_DRAMA_CST_AUDERT_INFO_202001.csv',\n",
       " 'TN_K_DRAMA_CST_AUDERT_INFO_202002.csv',\n",
       " 'TN_K_DRAMA_CST_AUDERT_INFO_202003.csv',\n",
       " 'TN_K_DRAMA_CST_AUDERT_INFO_202004.csv',\n",
       " 'TN_K_DRAMA_CST_AUDERT_INFO_202005.csv',\n",
       " 'TN_K_DRAMA_CST_AUDERT_INFO_202006.csv',\n",
       " 'TN_K_DRAMA_CST_AUDERT_INFO_202007.csv',\n",
       " 'TN_K_DRAMA_CST_AUDERT_INFO_202008.csv',\n",
       " 'TN_K_DRAMA_CST_AUDERT_INFO_202009.csv',\n",
       " 'TN_K_DRAMA_CST_AUDERT_INFO_202010.csv',\n",
       " 'TN_K_DRAMA_CST_AUDERT_INFO_202011.csv',\n",
       " 'TN_K_DRAMA_CST_AUDERT_INFO_202012.csv',\n",
       " 'TN_K_DRAMA_CST_AUDERT_INFO_202101.csv',\n",
       " 'TN_K_DRAMA_CST_AUDERT_INFO_202104.csv',\n",
       " 'TN_K_DRAMA_CST_AUDERT_INFO_202105.csv',\n",
       " 'TN_K_DRAMA_CST_AUDERT_INFO_202107.csv',\n",
       " 'TN_K_DRAMA_CST_AUDERT_INFO_202108.csv',\n",
       " 'TN_K_DRAMA_CST_AUDERT_INFO_202109.csv',\n",
       " 'TN_K_DRAMA_CST_AUDERT_INFO_202110.csv',\n",
       " 'TN_K_DRAMA_CST_AUDERT_INFO_202111.csv',\n",
       " 'TN_K_DRAMA_CST_AUDERT_INFO_202112.csv']"
      ]
     },
     "execution_count": 48,
     "metadata": {},
     "output_type": "execute_result"
    }
   ],
   "source": [
    "# 폴더 안의 파일 찾기\n",
    "files = os.listdir(\".\\TN_K_DRAMA\")\n",
    "files"
   ]
  },
  {
   "cell_type": "code",
   "execution_count": 49,
   "id": "23b47027",
   "metadata": {
    "ExecuteTime": {
     "end_time": "2022-09-30T01:20:01.925608Z",
     "start_time": "2022-09-30T01:20:01.157719Z"
    }
   },
   "outputs": [
    {
     "data": {
      "text/html": [
       "<div>\n",
       "<style scoped>\n",
       "    .dataframe tbody tr th:only-of-type {\n",
       "        vertical-align: middle;\n",
       "    }\n",
       "\n",
       "    .dataframe tbody tr th {\n",
       "        vertical-align: top;\n",
       "    }\n",
       "\n",
       "    .dataframe thead th {\n",
       "        text-align: right;\n",
       "    }\n",
       "</style>\n",
       "<table border=\"1\" class=\"dataframe\">\n",
       "  <thead>\n",
       "    <tr style=\"text-align: right;\">\n",
       "      <th></th>\n",
       "      <th>BRDCST_DE</th>\n",
       "      <th>CHNNEL_NM</th>\n",
       "      <th>PROGRM_BEGIN_TIME</th>\n",
       "      <th>PROGRM_END_TIME</th>\n",
       "      <th>PROGRM_NM</th>\n",
       "      <th>PROGRM_DC</th>\n",
       "      <th>BRDCST_TME_NM</th>\n",
       "      <th>PROGRM_BRDCST_AREA_NM</th>\n",
       "      <th>BRDCST_TIME</th>\n",
       "      <th>PROGRM_GENRE_LCLAS_NM</th>\n",
       "      <th>...</th>\n",
       "      <th>MALE_N50S_WTCHNG_RT</th>\n",
       "      <th>MALE_N60S_ABOVE_WTCHNG_RT</th>\n",
       "      <th>FEMALE_4_9YO_WTCHNG_RT</th>\n",
       "      <th>FEMALE_N10S_WTCHNG_RT</th>\n",
       "      <th>FEMALE_N20S_WTCHNG_RT</th>\n",
       "      <th>FEMALE_N30S_WTCHNG_RT</th>\n",
       "      <th>FEMALE_N40S_WTCHNG_RT</th>\n",
       "      <th>FEMALE_N50S_WTCHNG_RT</th>\n",
       "      <th>FEMALE_N60S_ABOVE_WTCHNG_RT</th>\n",
       "      <th>CST_CN</th>\n",
       "    </tr>\n",
       "  </thead>\n",
       "  <tbody>\n",
       "    <tr>\n",
       "      <th>0</th>\n",
       "      <td>20200101</td>\n",
       "      <td>KBS1</td>\n",
       "      <td>203053</td>\n",
       "      <td>205919</td>\n",
       "      <td>꽃길만걸어요</td>\n",
       "      <td>NaN</td>\n",
       "      <td>47회</td>\n",
       "      <td>전국</td>\n",
       "      <td>2826</td>\n",
       "      <td>드라마&amp;영화</td>\n",
       "      <td>...</td>\n",
       "      <td>10.87155</td>\n",
       "      <td>22.44198</td>\n",
       "      <td>2.53181</td>\n",
       "      <td>3.65313</td>\n",
       "      <td>3.49992</td>\n",
       "      <td>3.91898</td>\n",
       "      <td>7.94122</td>\n",
       "      <td>16.80257</td>\n",
       "      <td>28.77101</td>\n",
       "      <td>강여원역:최윤소,봉천동역:설정환,김지훈역:심지호,황수지역:정유민,왕꼰닙역:양희경,황...</td>\n",
       "    </tr>\n",
       "    <tr>\n",
       "      <th>1</th>\n",
       "      <td>20200101</td>\n",
       "      <td>KBS2</td>\n",
       "      <td>83326</td>\n",
       "      <td>90158</td>\n",
       "      <td>꽃길만걸어요</td>\n",
       "      <td>NaN</td>\n",
       "      <td>46회</td>\n",
       "      <td>전국</td>\n",
       "      <td>2832</td>\n",
       "      <td>드라마&amp;영화</td>\n",
       "      <td>...</td>\n",
       "      <td>0.88039</td>\n",
       "      <td>1.54432</td>\n",
       "      <td>0.02074</td>\n",
       "      <td>0.31538</td>\n",
       "      <td>0.20146</td>\n",
       "      <td>0.20803</td>\n",
       "      <td>0.07472</td>\n",
       "      <td>1.27827</td>\n",
       "      <td>1.79623</td>\n",
       "      <td>강여원역:최윤소,봉천동역:설정환,김지훈역:심지호,황수지역:정유민,왕꼰닙역:양희경,황...</td>\n",
       "    </tr>\n",
       "    <tr>\n",
       "      <th>2</th>\n",
       "      <td>20200101</td>\n",
       "      <td>KBS2</td>\n",
       "      <td>142127</td>\n",
       "      <td>152323</td>\n",
       "      <td>99억의여자</td>\n",
       "      <td>&lt;13회/14회&gt;</td>\n",
       "      <td>13회/14회</td>\n",
       "      <td>전국</td>\n",
       "      <td>10156</td>\n",
       "      <td>드라마&amp;영화</td>\n",
       "      <td>...</td>\n",
       "      <td>1.07131</td>\n",
       "      <td>0.71185</td>\n",
       "      <td>0.20255</td>\n",
       "      <td>0.00000</td>\n",
       "      <td>0.35307</td>\n",
       "      <td>0.53111</td>\n",
       "      <td>0.67473</td>\n",
       "      <td>0.88160</td>\n",
       "      <td>1.06211</td>\n",
       "      <td>정서연역:조여정,강태우역:김강우,홍인표역:정웅인,윤희주역:오나라,이재훈역:이지훈,윤...</td>\n",
       "    </tr>\n",
       "    <tr>\n",
       "      <th>3</th>\n",
       "      <td>20200101</td>\n",
       "      <td>KBS2</td>\n",
       "      <td>153014</td>\n",
       "      <td>163125</td>\n",
       "      <td>99억의여자</td>\n",
       "      <td>&lt;15회/16회&gt;</td>\n",
       "      <td>15회/16회</td>\n",
       "      <td>전국</td>\n",
       "      <td>10111</td>\n",
       "      <td>드라마&amp;영화</td>\n",
       "      <td>...</td>\n",
       "      <td>1.44457</td>\n",
       "      <td>1.05063</td>\n",
       "      <td>0.88926</td>\n",
       "      <td>0.02518</td>\n",
       "      <td>0.48745</td>\n",
       "      <td>0.51224</td>\n",
       "      <td>0.61871</td>\n",
       "      <td>1.50653</td>\n",
       "      <td>1.49790</td>\n",
       "      <td>정서연역:조여정,강태우역:김강우,홍인표역:정웅인,윤희주역:오나라,이재훈역:이지훈,윤...</td>\n",
       "    </tr>\n",
       "    <tr>\n",
       "      <th>4</th>\n",
       "      <td>20200101</td>\n",
       "      <td>KBS2</td>\n",
       "      <td>194916</td>\n",
       "      <td>202238</td>\n",
       "      <td>우아한모녀</td>\n",
       "      <td>NaN</td>\n",
       "      <td>42회</td>\n",
       "      <td>전국</td>\n",
       "      <td>3322</td>\n",
       "      <td>드라마&amp;영화</td>\n",
       "      <td>...</td>\n",
       "      <td>7.69701</td>\n",
       "      <td>17.69207</td>\n",
       "      <td>2.51600</td>\n",
       "      <td>3.26305</td>\n",
       "      <td>4.38414</td>\n",
       "      <td>3.87972</td>\n",
       "      <td>6.83991</td>\n",
       "      <td>13.70226</td>\n",
       "      <td>23.24382</td>\n",
       "      <td>차미연역:최명길,한유진역:차예련,구해준역:김흥수,구재명역:김명수,서은하역:지수원,홍...</td>\n",
       "    </tr>\n",
       "    <tr>\n",
       "      <th>...</th>\n",
       "      <td>...</td>\n",
       "      <td>...</td>\n",
       "      <td>...</td>\n",
       "      <td>...</td>\n",
       "      <td>...</td>\n",
       "      <td>...</td>\n",
       "      <td>...</td>\n",
       "      <td>...</td>\n",
       "      <td>...</td>\n",
       "      <td>...</td>\n",
       "      <td>...</td>\n",
       "      <td>...</td>\n",
       "      <td>...</td>\n",
       "      <td>...</td>\n",
       "      <td>...</td>\n",
       "      <td>...</td>\n",
       "      <td>...</td>\n",
       "      <td>...</td>\n",
       "      <td>...</td>\n",
       "      <td>...</td>\n",
       "      <td>...</td>\n",
       "    </tr>\n",
       "    <tr>\n",
       "      <th>6202</th>\n",
       "      <td>20201231</td>\n",
       "      <td>WeLike</td>\n",
       "      <td>52000</td>\n",
       "      <td>62455</td>\n",
       "      <td>마이프린세스</td>\n",
       "      <td>NaN</td>\n",
       "      <td>4회</td>\n",
       "      <td>전국</td>\n",
       "      <td>10455</td>\n",
       "      <td>드라마&amp;영화</td>\n",
       "      <td>...</td>\n",
       "      <td>0.00000</td>\n",
       "      <td>0.00000</td>\n",
       "      <td>0.00000</td>\n",
       "      <td>0.00000</td>\n",
       "      <td>0.00000</td>\n",
       "      <td>0.00000</td>\n",
       "      <td>0.00000</td>\n",
       "      <td>0.00000</td>\n",
       "      <td>0.00122</td>\n",
       "      <td>박해영역:송승헌,이설역:김태희,오윤주역:박예진,남정우역:류수영,박동재역:이순재,오기...</td>\n",
       "    </tr>\n",
       "    <tr>\n",
       "      <th>6203</th>\n",
       "      <td>20201231</td>\n",
       "      <td>WeLike</td>\n",
       "      <td>111321</td>\n",
       "      <td>120533</td>\n",
       "      <td>운명과분노</td>\n",
       "      <td>NaN</td>\n",
       "      <td>5회</td>\n",
       "      <td>전국</td>\n",
       "      <td>5212</td>\n",
       "      <td>드라마&amp;영화</td>\n",
       "      <td>...</td>\n",
       "      <td>0.00000</td>\n",
       "      <td>0.00261</td>\n",
       "      <td>0.00000</td>\n",
       "      <td>0.00000</td>\n",
       "      <td>0.00000</td>\n",
       "      <td>0.00515</td>\n",
       "      <td>0.00000</td>\n",
       "      <td>0.00000</td>\n",
       "      <td>0.00393</td>\n",
       "      <td>태인준역:주상욱,구해라역:이민정,차수현역:소이현,진태오역:이기우,태필운역:고인범,한...</td>\n",
       "    </tr>\n",
       "    <tr>\n",
       "      <th>6204</th>\n",
       "      <td>20201231</td>\n",
       "      <td>WeLike</td>\n",
       "      <td>121927</td>\n",
       "      <td>131641</td>\n",
       "      <td>운명과분노</td>\n",
       "      <td>NaN</td>\n",
       "      <td>6회</td>\n",
       "      <td>전국</td>\n",
       "      <td>5714</td>\n",
       "      <td>드라마&amp;영화</td>\n",
       "      <td>...</td>\n",
       "      <td>0.00000</td>\n",
       "      <td>0.00051</td>\n",
       "      <td>0.00000</td>\n",
       "      <td>0.00835</td>\n",
       "      <td>0.00107</td>\n",
       "      <td>0.00146</td>\n",
       "      <td>0.00000</td>\n",
       "      <td>0.00232</td>\n",
       "      <td>0.00031</td>\n",
       "      <td>태인준역:주상욱,구해라역:이민정,차수현역:소이현,진태오역:이기우,태필운역:고인범,한...</td>\n",
       "    </tr>\n",
       "    <tr>\n",
       "      <th>6205</th>\n",
       "      <td>20201231</td>\n",
       "      <td>WeLike</td>\n",
       "      <td>200546</td>\n",
       "      <td>205931</td>\n",
       "      <td>운명과분노</td>\n",
       "      <td>NaN</td>\n",
       "      <td>7회</td>\n",
       "      <td>전국</td>\n",
       "      <td>5345</td>\n",
       "      <td>드라마&amp;영화</td>\n",
       "      <td>...</td>\n",
       "      <td>0.00213</td>\n",
       "      <td>0.00000</td>\n",
       "      <td>0.00000</td>\n",
       "      <td>0.00000</td>\n",
       "      <td>0.00329</td>\n",
       "      <td>0.00000</td>\n",
       "      <td>0.00576</td>\n",
       "      <td>0.00118</td>\n",
       "      <td>0.00000</td>\n",
       "      <td>태인준역:주상욱,구해라역:이민정,차수현역:소이현,진태오역:이기우,태필운역:고인범,한...</td>\n",
       "    </tr>\n",
       "    <tr>\n",
       "      <th>6206</th>\n",
       "      <td>20201231</td>\n",
       "      <td>WeLike</td>\n",
       "      <td>211625</td>\n",
       "      <td>221231</td>\n",
       "      <td>운명과분노</td>\n",
       "      <td>NaN</td>\n",
       "      <td>8회</td>\n",
       "      <td>전국</td>\n",
       "      <td>5606</td>\n",
       "      <td>드라마&amp;영화</td>\n",
       "      <td>...</td>\n",
       "      <td>0.00000</td>\n",
       "      <td>0.00688</td>\n",
       "      <td>0.00000</td>\n",
       "      <td>0.00000</td>\n",
       "      <td>0.00000</td>\n",
       "      <td>0.00000</td>\n",
       "      <td>0.00000</td>\n",
       "      <td>0.00943</td>\n",
       "      <td>0.00000</td>\n",
       "      <td>태인준역:주상욱,구해라역:이민정,차수현역:소이현,진태오역:이기우,태필운역:고인범,한...</td>\n",
       "    </tr>\n",
       "  </tbody>\n",
       "</table>\n",
       "<p>78240 rows × 27 columns</p>\n",
       "</div>"
      ],
      "text/plain": [
       "      BRDCST_DE CHNNEL_NM  PROGRM_BEGIN_TIME  PROGRM_END_TIME PROGRM_NM  \\\n",
       "0      20200101      KBS1             203053           205919    꽃길만걸어요   \n",
       "1      20200101      KBS2              83326            90158    꽃길만걸어요   \n",
       "2      20200101      KBS2             142127           152323    99억의여자   \n",
       "3      20200101      KBS2             153014           163125    99억의여자   \n",
       "4      20200101      KBS2             194916           202238     우아한모녀   \n",
       "...         ...       ...                ...              ...       ...   \n",
       "6202   20201231    WeLike              52000            62455    마이프린세스   \n",
       "6203   20201231    WeLike             111321           120533     운명과분노   \n",
       "6204   20201231    WeLike             121927           131641     운명과분노   \n",
       "6205   20201231    WeLike             200546           205931     운명과분노   \n",
       "6206   20201231    WeLike             211625           221231     운명과분노   \n",
       "\n",
       "      PROGRM_DC BRDCST_TME_NM PROGRM_BRDCST_AREA_NM  BRDCST_TIME  \\\n",
       "0           NaN           47회                    전국         2826   \n",
       "1           NaN           46회                    전국         2832   \n",
       "2     <13회/14회>       13회/14회                    전국        10156   \n",
       "3     <15회/16회>       15회/16회                    전국        10111   \n",
       "4           NaN           42회                    전국         3322   \n",
       "...         ...           ...                   ...          ...   \n",
       "6202        NaN            4회                    전국        10455   \n",
       "6203        NaN            5회                    전국         5212   \n",
       "6204        NaN            6회                    전국         5714   \n",
       "6205        NaN            7회                    전국         5345   \n",
       "6206        NaN            8회                    전국         5606   \n",
       "\n",
       "     PROGRM_GENRE_LCLAS_NM  ... MALE_N50S_WTCHNG_RT MALE_N60S_ABOVE_WTCHNG_RT  \\\n",
       "0                   드라마&영화  ...            10.87155                  22.44198   \n",
       "1                   드라마&영화  ...             0.88039                   1.54432   \n",
       "2                   드라마&영화  ...             1.07131                   0.71185   \n",
       "3                   드라마&영화  ...             1.44457                   1.05063   \n",
       "4                   드라마&영화  ...             7.69701                  17.69207   \n",
       "...                    ...  ...                 ...                       ...   \n",
       "6202                드라마&영화  ...             0.00000                   0.00000   \n",
       "6203                드라마&영화  ...             0.00000                   0.00261   \n",
       "6204                드라마&영화  ...             0.00000                   0.00051   \n",
       "6205                드라마&영화  ...             0.00213                   0.00000   \n",
       "6206                드라마&영화  ...             0.00000                   0.00688   \n",
       "\n",
       "      FEMALE_4_9YO_WTCHNG_RT  FEMALE_N10S_WTCHNG_RT  FEMALE_N20S_WTCHNG_RT  \\\n",
       "0                    2.53181                3.65313                3.49992   \n",
       "1                    0.02074                0.31538                0.20146   \n",
       "2                    0.20255                0.00000                0.35307   \n",
       "3                    0.88926                0.02518                0.48745   \n",
       "4                    2.51600                3.26305                4.38414   \n",
       "...                      ...                    ...                    ...   \n",
       "6202                 0.00000                0.00000                0.00000   \n",
       "6203                 0.00000                0.00000                0.00000   \n",
       "6204                 0.00000                0.00835                0.00107   \n",
       "6205                 0.00000                0.00000                0.00329   \n",
       "6206                 0.00000                0.00000                0.00000   \n",
       "\n",
       "      FEMALE_N30S_WTCHNG_RT  FEMALE_N40S_WTCHNG_RT  FEMALE_N50S_WTCHNG_RT  \\\n",
       "0                   3.91898                7.94122               16.80257   \n",
       "1                   0.20803                0.07472                1.27827   \n",
       "2                   0.53111                0.67473                0.88160   \n",
       "3                   0.51224                0.61871                1.50653   \n",
       "4                   3.87972                6.83991               13.70226   \n",
       "...                     ...                    ...                    ...   \n",
       "6202                0.00000                0.00000                0.00000   \n",
       "6203                0.00515                0.00000                0.00000   \n",
       "6204                0.00146                0.00000                0.00232   \n",
       "6205                0.00000                0.00576                0.00118   \n",
       "6206                0.00000                0.00000                0.00943   \n",
       "\n",
       "      FEMALE_N60S_ABOVE_WTCHNG_RT  \\\n",
       "0                        28.77101   \n",
       "1                         1.79623   \n",
       "2                         1.06211   \n",
       "3                         1.49790   \n",
       "4                        23.24382   \n",
       "...                           ...   \n",
       "6202                      0.00122   \n",
       "6203                      0.00393   \n",
       "6204                      0.00031   \n",
       "6205                      0.00000   \n",
       "6206                      0.00000   \n",
       "\n",
       "                                                 CST_CN  \n",
       "0     강여원역:최윤소,봉천동역:설정환,김지훈역:심지호,황수지역:정유민,왕꼰닙역:양희경,황...  \n",
       "1     강여원역:최윤소,봉천동역:설정환,김지훈역:심지호,황수지역:정유민,왕꼰닙역:양희경,황...  \n",
       "2     정서연역:조여정,강태우역:김강우,홍인표역:정웅인,윤희주역:오나라,이재훈역:이지훈,윤...  \n",
       "3     정서연역:조여정,강태우역:김강우,홍인표역:정웅인,윤희주역:오나라,이재훈역:이지훈,윤...  \n",
       "4     차미연역:최명길,한유진역:차예련,구해준역:김흥수,구재명역:김명수,서은하역:지수원,홍...  \n",
       "...                                                 ...  \n",
       "6202  박해영역:송승헌,이설역:김태희,오윤주역:박예진,남정우역:류수영,박동재역:이순재,오기...  \n",
       "6203  태인준역:주상욱,구해라역:이민정,차수현역:소이현,진태오역:이기우,태필운역:고인범,한...  \n",
       "6204  태인준역:주상욱,구해라역:이민정,차수현역:소이현,진태오역:이기우,태필운역:고인범,한...  \n",
       "6205  태인준역:주상욱,구해라역:이민정,차수현역:소이현,진태오역:이기우,태필운역:고인범,한...  \n",
       "6206  태인준역:주상욱,구해라역:이민정,차수현역:소이현,진태오역:이기우,태필운역:고인범,한...  \n",
       "\n",
       "[78240 rows x 27 columns]"
      ]
     },
     "execution_count": 49,
     "metadata": {},
     "output_type": "execute_result"
    }
   ],
   "source": [
    "# 필요한 파일 하나씩 데이터 프레임에 저장\n",
    "df1 = pd.read_csv('.\\TN_K_DRAMA\\TN_K_DRAMA_CST_AUDERT_INFO_202001.csv')\n",
    "df2 = pd.read_csv('.\\TN_K_DRAMA\\TN_K_DRAMA_CST_AUDERT_INFO_202002.csv')\n",
    "df3 = pd.read_csv('.\\TN_K_DRAMA\\TN_K_DRAMA_CST_AUDERT_INFO_202003.csv')\n",
    "df4 = pd.read_csv('.\\TN_K_DRAMA\\TN_K_DRAMA_CST_AUDERT_INFO_202004.csv')\n",
    "df5 = pd.read_csv('.\\TN_K_DRAMA\\TN_K_DRAMA_CST_AUDERT_INFO_202005.csv')\n",
    "df6 = pd.read_csv('.\\TN_K_DRAMA\\TN_K_DRAMA_CST_AUDERT_INFO_202006.csv')\n",
    "df7 = pd.read_csv('.\\TN_K_DRAMA\\TN_K_DRAMA_CST_AUDERT_INFO_202007.csv')\n",
    "df8 = pd.read_csv('.\\TN_K_DRAMA\\TN_K_DRAMA_CST_AUDERT_INFO_202008.csv')\n",
    "df9 = pd.read_csv('.\\TN_K_DRAMA\\TN_K_DRAMA_CST_AUDERT_INFO_202009.csv')\n",
    "df10 = pd.read_csv('.\\TN_K_DRAMA\\TN_K_DRAMA_CST_AUDERT_INFO_202010.csv')\n",
    "df11 = pd.read_csv('.\\TN_K_DRAMA\\TN_K_DRAMA_CST_AUDERT_INFO_202011.csv')\n",
    "df12 = pd.read_csv('.\\TN_K_DRAMA\\TN_K_DRAMA_CST_AUDERT_INFO_202012.csv')\n",
    "k_df = pd.concat([df1, df2, df3, df4, df5, df6, df6, df7, df8, df9, df10, df11, df12] , axis =0)\n",
    "k_df"
   ]
  },
  {
   "cell_type": "code",
   "execution_count": 50,
   "id": "7a7cebfa",
   "metadata": {
    "ExecuteTime": {
     "end_time": "2022-09-30T01:20:03.787290Z",
     "start_time": "2022-09-30T01:20:02.623971Z"
    }
   },
   "outputs": [],
   "source": [
    "# 폴더 안에 있는 모든 csv 파일 Concat하여 병합\n",
    "import os\n",
    "data = pd.DataFrame()\n",
    "files = os.listdir(\"./TN_K_DRAMA\")\n",
    "for file in files:\n",
    "    path = './TN_K_DRAMA/' + file\n",
    "    add = pd.read_csv(path)\n",
    "    data = pd.concat([data, add])"
   ]
  },
  {
   "cell_type": "code",
   "execution_count": 51,
   "id": "d3c2d4ed",
   "metadata": {
    "ExecuteTime": {
     "end_time": "2022-09-30T01:20:05.104751Z",
     "start_time": "2022-09-30T01:20:04.432265Z"
    }
   },
   "outputs": [],
   "source": [
    "# 폴더 안에 있는 csv 파일 중 2020년 파일만 Concat하여 병합\n",
    "dfs = {}\n",
    "kdf = pd.DataFrame()\n",
    "files = os.listdir(\"./TN_K_DRAMA\")\n",
    "for file in files:\n",
    "    date = file[-10:-4]\n",
    "    dfs[date] = pd.read_csv(f\"./TN_K_DRAMA/{file}\")\n",
    "    kdf = pd.concat([kdf, dfs[date]])\n",
    "    if date == '202012':\n",
    "        break"
   ]
  },
  {
   "cell_type": "markdown",
   "id": "c1636823",
   "metadata": {},
   "source": [
    "## 전처리\n",
    "### DB정보"
   ]
  },
  {
   "cell_type": "code",
   "execution_count": 52,
   "id": "a4bbdff9",
   "metadata": {
    "ExecuteTime": {
     "end_time": "2022-09-30T01:20:05.851756Z",
     "start_time": "2022-09-30T01:20:05.768276Z"
    }
   },
   "outputs": [
    {
     "data": {
      "text/html": [
       "<div>\n",
       "<style scoped>\n",
       "    .dataframe tbody tr th:only-of-type {\n",
       "        vertical-align: middle;\n",
       "    }\n",
       "\n",
       "    .dataframe tbody tr th {\n",
       "        vertical-align: top;\n",
       "    }\n",
       "\n",
       "    .dataframe thead th {\n",
       "        text-align: right;\n",
       "    }\n",
       "</style>\n",
       "<table border=\"1\" class=\"dataframe\">\n",
       "  <thead>\n",
       "    <tr style=\"text-align: right;\">\n",
       "      <th></th>\n",
       "      <th>BRDCST_DE</th>\n",
       "      <th>PROGRM_BEGIN_TIME</th>\n",
       "      <th>PROGRM_END_TIME</th>\n",
       "      <th>BRDCST_TIME</th>\n",
       "      <th>MALE_4_9YO_WTCHNG_RT</th>\n",
       "      <th>MALE_N10S_WTCHNG_RT</th>\n",
       "      <th>MALE_N20S_WTCHNG_RT</th>\n",
       "      <th>MALE_N30S_WTCHNG_RT</th>\n",
       "      <th>MALE_N40S_WTCHNG_RT</th>\n",
       "      <th>MALE_N50S_WTCHNG_RT</th>\n",
       "      <th>MALE_N60S_ABOVE_WTCHNG_RT</th>\n",
       "      <th>FEMALE_4_9YO_WTCHNG_RT</th>\n",
       "      <th>FEMALE_N10S_WTCHNG_RT</th>\n",
       "      <th>FEMALE_N20S_WTCHNG_RT</th>\n",
       "      <th>FEMALE_N30S_WTCHNG_RT</th>\n",
       "      <th>FEMALE_N40S_WTCHNG_RT</th>\n",
       "      <th>FEMALE_N50S_WTCHNG_RT</th>\n",
       "      <th>FEMALE_N60S_ABOVE_WTCHNG_RT</th>\n",
       "    </tr>\n",
       "  </thead>\n",
       "  <tbody>\n",
       "    <tr>\n",
       "      <th>count</th>\n",
       "      <td>7.217700e+04</td>\n",
       "      <td>72177.000000</td>\n",
       "      <td>72177.000000</td>\n",
       "      <td>72177.000000</td>\n",
       "      <td>72177.000000</td>\n",
       "      <td>72177.000000</td>\n",
       "      <td>72177.000000</td>\n",
       "      <td>72177.000000</td>\n",
       "      <td>72177.000000</td>\n",
       "      <td>72177.000000</td>\n",
       "      <td>72177.000000</td>\n",
       "      <td>72177.000000</td>\n",
       "      <td>72177.000000</td>\n",
       "      <td>72177.000000</td>\n",
       "      <td>72177.000000</td>\n",
       "      <td>72177.000000</td>\n",
       "      <td>72177.000000</td>\n",
       "      <td>72177.000000</td>\n",
       "    </tr>\n",
       "    <tr>\n",
       "      <th>mean</th>\n",
       "      <td>2.020067e+07</td>\n",
       "      <td>140451.499217</td>\n",
       "      <td>148839.188717</td>\n",
       "      <td>7097.130457</td>\n",
       "      <td>0.139597</td>\n",
       "      <td>0.150100</td>\n",
       "      <td>0.131773</td>\n",
       "      <td>0.172768</td>\n",
       "      <td>0.253120</td>\n",
       "      <td>0.354833</td>\n",
       "      <td>0.468833</td>\n",
       "      <td>0.128876</td>\n",
       "      <td>0.139274</td>\n",
       "      <td>0.154140</td>\n",
       "      <td>0.249442</td>\n",
       "      <td>0.403845</td>\n",
       "      <td>0.490099</td>\n",
       "      <td>0.572996</td>\n",
       "    </tr>\n",
       "    <tr>\n",
       "      <th>std</th>\n",
       "      <td>3.421006e+02</td>\n",
       "      <td>69848.195738</td>\n",
       "      <td>70067.231009</td>\n",
       "      <td>3781.242331</td>\n",
       "      <td>0.581799</td>\n",
       "      <td>0.586454</td>\n",
       "      <td>0.493090</td>\n",
       "      <td>0.630658</td>\n",
       "      <td>0.874094</td>\n",
       "      <td>1.343497</td>\n",
       "      <td>2.238566</td>\n",
       "      <td>0.616979</td>\n",
       "      <td>0.591122</td>\n",
       "      <td>0.601953</td>\n",
       "      <td>0.903417</td>\n",
       "      <td>1.392761</td>\n",
       "      <td>1.967181</td>\n",
       "      <td>2.779227</td>\n",
       "    </tr>\n",
       "    <tr>\n",
       "      <th>min</th>\n",
       "      <td>2.020010e+07</td>\n",
       "      <td>20000.000000</td>\n",
       "      <td>20002.000000</td>\n",
       "      <td>2.000000</td>\n",
       "      <td>0.000000</td>\n",
       "      <td>0.000000</td>\n",
       "      <td>0.000000</td>\n",
       "      <td>0.000000</td>\n",
       "      <td>0.000000</td>\n",
       "      <td>0.000000</td>\n",
       "      <td>0.000000</td>\n",
       "      <td>0.000000</td>\n",
       "      <td>0.000000</td>\n",
       "      <td>0.000000</td>\n",
       "      <td>0.000000</td>\n",
       "      <td>0.000000</td>\n",
       "      <td>0.000000</td>\n",
       "      <td>0.000000</td>\n",
       "    </tr>\n",
       "    <tr>\n",
       "      <th>25%</th>\n",
       "      <td>2.020040e+07</td>\n",
       "      <td>82557.000000</td>\n",
       "      <td>91453.000000</td>\n",
       "      <td>3254.000000</td>\n",
       "      <td>0.000000</td>\n",
       "      <td>0.000000</td>\n",
       "      <td>0.000000</td>\n",
       "      <td>0.000000</td>\n",
       "      <td>0.000000</td>\n",
       "      <td>0.002560</td>\n",
       "      <td>0.014690</td>\n",
       "      <td>0.000000</td>\n",
       "      <td>0.000000</td>\n",
       "      <td>0.000000</td>\n",
       "      <td>0.000000</td>\n",
       "      <td>0.000000</td>\n",
       "      <td>0.005620</td>\n",
       "      <td>0.018450</td>\n",
       "    </tr>\n",
       "    <tr>\n",
       "      <th>50%</th>\n",
       "      <td>2.020070e+07</td>\n",
       "      <td>141143.000000</td>\n",
       "      <td>150711.000000</td>\n",
       "      <td>5922.000000</td>\n",
       "      <td>0.000000</td>\n",
       "      <td>0.000000</td>\n",
       "      <td>0.000000</td>\n",
       "      <td>0.006610</td>\n",
       "      <td>0.018010</td>\n",
       "      <td>0.047330</td>\n",
       "      <td>0.078660</td>\n",
       "      <td>0.000000</td>\n",
       "      <td>0.000000</td>\n",
       "      <td>0.003050</td>\n",
       "      <td>0.012280</td>\n",
       "      <td>0.049910</td>\n",
       "      <td>0.064290</td>\n",
       "      <td>0.091850</td>\n",
       "    </tr>\n",
       "    <tr>\n",
       "      <th>75%</th>\n",
       "      <td>2.020093e+07</td>\n",
       "      <td>203324.000000</td>\n",
       "      <td>212623.000000</td>\n",
       "      <td>10515.000000</td>\n",
       "      <td>0.010100</td>\n",
       "      <td>0.040760</td>\n",
       "      <td>0.060800</td>\n",
       "      <td>0.090790</td>\n",
       "      <td>0.163900</td>\n",
       "      <td>0.203370</td>\n",
       "      <td>0.217390</td>\n",
       "      <td>0.000000</td>\n",
       "      <td>0.038610</td>\n",
       "      <td>0.093110</td>\n",
       "      <td>0.146860</td>\n",
       "      <td>0.251610</td>\n",
       "      <td>0.251520</td>\n",
       "      <td>0.257530</td>\n",
       "    </tr>\n",
       "    <tr>\n",
       "      <th>max</th>\n",
       "      <td>2.020123e+07</td>\n",
       "      <td>255957.000000</td>\n",
       "      <td>260000.000000</td>\n",
       "      <td>25039.000000</td>\n",
       "      <td>14.248110</td>\n",
       "      <td>13.948470</td>\n",
       "      <td>9.384630</td>\n",
       "      <td>10.552980</td>\n",
       "      <td>17.718320</td>\n",
       "      <td>26.162760</td>\n",
       "      <td>31.772380</td>\n",
       "      <td>15.375140</td>\n",
       "      <td>16.829790</td>\n",
       "      <td>14.482660</td>\n",
       "      <td>17.876300</td>\n",
       "      <td>27.275290</td>\n",
       "      <td>37.457770</td>\n",
       "      <td>38.066930</td>\n",
       "    </tr>\n",
       "  </tbody>\n",
       "</table>\n",
       "</div>"
      ],
      "text/plain": [
       "          BRDCST_DE  PROGRM_BEGIN_TIME  PROGRM_END_TIME   BRDCST_TIME  \\\n",
       "count  7.217700e+04       72177.000000     72177.000000  72177.000000   \n",
       "mean   2.020067e+07      140451.499217    148839.188717   7097.130457   \n",
       "std    3.421006e+02       69848.195738     70067.231009   3781.242331   \n",
       "min    2.020010e+07       20000.000000     20002.000000      2.000000   \n",
       "25%    2.020040e+07       82557.000000     91453.000000   3254.000000   \n",
       "50%    2.020070e+07      141143.000000    150711.000000   5922.000000   \n",
       "75%    2.020093e+07      203324.000000    212623.000000  10515.000000   \n",
       "max    2.020123e+07      255957.000000    260000.000000  25039.000000   \n",
       "\n",
       "       MALE_4_9YO_WTCHNG_RT  MALE_N10S_WTCHNG_RT  MALE_N20S_WTCHNG_RT  \\\n",
       "count          72177.000000         72177.000000         72177.000000   \n",
       "mean               0.139597             0.150100             0.131773   \n",
       "std                0.581799             0.586454             0.493090   \n",
       "min                0.000000             0.000000             0.000000   \n",
       "25%                0.000000             0.000000             0.000000   \n",
       "50%                0.000000             0.000000             0.000000   \n",
       "75%                0.010100             0.040760             0.060800   \n",
       "max               14.248110            13.948470             9.384630   \n",
       "\n",
       "       MALE_N30S_WTCHNG_RT  MALE_N40S_WTCHNG_RT  MALE_N50S_WTCHNG_RT  \\\n",
       "count         72177.000000         72177.000000         72177.000000   \n",
       "mean              0.172768             0.253120             0.354833   \n",
       "std               0.630658             0.874094             1.343497   \n",
       "min               0.000000             0.000000             0.000000   \n",
       "25%               0.000000             0.000000             0.002560   \n",
       "50%               0.006610             0.018010             0.047330   \n",
       "75%               0.090790             0.163900             0.203370   \n",
       "max              10.552980            17.718320            26.162760   \n",
       "\n",
       "       MALE_N60S_ABOVE_WTCHNG_RT  FEMALE_4_9YO_WTCHNG_RT  \\\n",
       "count               72177.000000            72177.000000   \n",
       "mean                    0.468833                0.128876   \n",
       "std                     2.238566                0.616979   \n",
       "min                     0.000000                0.000000   \n",
       "25%                     0.014690                0.000000   \n",
       "50%                     0.078660                0.000000   \n",
       "75%                     0.217390                0.000000   \n",
       "max                    31.772380               15.375140   \n",
       "\n",
       "       FEMALE_N10S_WTCHNG_RT  FEMALE_N20S_WTCHNG_RT  FEMALE_N30S_WTCHNG_RT  \\\n",
       "count           72177.000000           72177.000000           72177.000000   \n",
       "mean                0.139274               0.154140               0.249442   \n",
       "std                 0.591122               0.601953               0.903417   \n",
       "min                 0.000000               0.000000               0.000000   \n",
       "25%                 0.000000               0.000000               0.000000   \n",
       "50%                 0.000000               0.003050               0.012280   \n",
       "75%                 0.038610               0.093110               0.146860   \n",
       "max                16.829790              14.482660              17.876300   \n",
       "\n",
       "       FEMALE_N40S_WTCHNG_RT  FEMALE_N50S_WTCHNG_RT  \\\n",
       "count           72177.000000           72177.000000   \n",
       "mean                0.403845               0.490099   \n",
       "std                 1.392761               1.967181   \n",
       "min                 0.000000               0.000000   \n",
       "25%                 0.000000               0.005620   \n",
       "50%                 0.049910               0.064290   \n",
       "75%                 0.251610               0.251520   \n",
       "max                27.275290              37.457770   \n",
       "\n",
       "       FEMALE_N60S_ABOVE_WTCHNG_RT  \n",
       "count                 72177.000000  \n",
       "mean                      0.572996  \n",
       "std                       2.779227  \n",
       "min                       0.000000  \n",
       "25%                       0.018450  \n",
       "50%                       0.091850  \n",
       "75%                       0.257530  \n",
       "max                      38.066930  "
      ]
     },
     "execution_count": 52,
     "metadata": {},
     "output_type": "execute_result"
    }
   ],
   "source": [
    "kdf.describe()"
   ]
  },
  {
   "cell_type": "code",
   "execution_count": 53,
   "id": "7c28e3e7",
   "metadata": {
    "ExecuteTime": {
     "end_time": "2022-09-30T01:20:06.522343Z",
     "start_time": "2022-09-30T01:20:06.508519Z"
    }
   },
   "outputs": [
    {
     "data": {
      "text/plain": [
       "(72177, 27)"
      ]
     },
     "execution_count": 53,
     "metadata": {},
     "output_type": "execute_result"
    }
   ],
   "source": [
    "kdf.shape"
   ]
  },
  {
   "cell_type": "code",
   "execution_count": 54,
   "id": "f5de9b94",
   "metadata": {
    "ExecuteTime": {
     "end_time": "2022-09-30T01:20:07.208515Z",
     "start_time": "2022-09-30T01:20:07.178567Z"
    }
   },
   "outputs": [
    {
     "data": {
      "text/html": [
       "<div>\n",
       "<style scoped>\n",
       "    .dataframe tbody tr th:only-of-type {\n",
       "        vertical-align: middle;\n",
       "    }\n",
       "\n",
       "    .dataframe tbody tr th {\n",
       "        vertical-align: top;\n",
       "    }\n",
       "\n",
       "    .dataframe thead th {\n",
       "        text-align: right;\n",
       "    }\n",
       "</style>\n",
       "<table border=\"1\" class=\"dataframe\">\n",
       "  <thead>\n",
       "    <tr style=\"text-align: right;\">\n",
       "      <th></th>\n",
       "      <th>BRDCST_DE</th>\n",
       "      <th>CHNNEL_NM</th>\n",
       "      <th>PROGRM_BEGIN_TIME</th>\n",
       "      <th>PROGRM_END_TIME</th>\n",
       "      <th>PROGRM_NM</th>\n",
       "      <th>PROGRM_DC</th>\n",
       "      <th>BRDCST_TME_NM</th>\n",
       "      <th>PROGRM_BRDCST_AREA_NM</th>\n",
       "      <th>BRDCST_TIME</th>\n",
       "      <th>PROGRM_GENRE_LCLAS_NM</th>\n",
       "      <th>...</th>\n",
       "      <th>MALE_N50S_WTCHNG_RT</th>\n",
       "      <th>MALE_N60S_ABOVE_WTCHNG_RT</th>\n",
       "      <th>FEMALE_4_9YO_WTCHNG_RT</th>\n",
       "      <th>FEMALE_N10S_WTCHNG_RT</th>\n",
       "      <th>FEMALE_N20S_WTCHNG_RT</th>\n",
       "      <th>FEMALE_N30S_WTCHNG_RT</th>\n",
       "      <th>FEMALE_N40S_WTCHNG_RT</th>\n",
       "      <th>FEMALE_N50S_WTCHNG_RT</th>\n",
       "      <th>FEMALE_N60S_ABOVE_WTCHNG_RT</th>\n",
       "      <th>CST_CN</th>\n",
       "    </tr>\n",
       "  </thead>\n",
       "  <tbody>\n",
       "    <tr>\n",
       "      <th>6205</th>\n",
       "      <td>20201231</td>\n",
       "      <td>WeLike</td>\n",
       "      <td>200546</td>\n",
       "      <td>205931</td>\n",
       "      <td>운명과분노</td>\n",
       "      <td>NaN</td>\n",
       "      <td>7회</td>\n",
       "      <td>전국</td>\n",
       "      <td>5345</td>\n",
       "      <td>드라마&amp;영화</td>\n",
       "      <td>...</td>\n",
       "      <td>0.00213</td>\n",
       "      <td>0.00000</td>\n",
       "      <td>0.0</td>\n",
       "      <td>0.0</td>\n",
       "      <td>0.00329</td>\n",
       "      <td>0.0</td>\n",
       "      <td>0.00576</td>\n",
       "      <td>0.00118</td>\n",
       "      <td>0.0</td>\n",
       "      <td>태인준역:주상욱,구해라역:이민정,차수현역:소이현,진태오역:이기우,태필운역:고인범,한...</td>\n",
       "    </tr>\n",
       "    <tr>\n",
       "      <th>6206</th>\n",
       "      <td>20201231</td>\n",
       "      <td>WeLike</td>\n",
       "      <td>211625</td>\n",
       "      <td>221231</td>\n",
       "      <td>운명과분노</td>\n",
       "      <td>NaN</td>\n",
       "      <td>8회</td>\n",
       "      <td>전국</td>\n",
       "      <td>5606</td>\n",
       "      <td>드라마&amp;영화</td>\n",
       "      <td>...</td>\n",
       "      <td>0.00000</td>\n",
       "      <td>0.00688</td>\n",
       "      <td>0.0</td>\n",
       "      <td>0.0</td>\n",
       "      <td>0.00000</td>\n",
       "      <td>0.0</td>\n",
       "      <td>0.00000</td>\n",
       "      <td>0.00943</td>\n",
       "      <td>0.0</td>\n",
       "      <td>태인준역:주상욱,구해라역:이민정,차수현역:소이현,진태오역:이기우,태필운역:고인범,한...</td>\n",
       "    </tr>\n",
       "  </tbody>\n",
       "</table>\n",
       "<p>2 rows × 27 columns</p>\n",
       "</div>"
      ],
      "text/plain": [
       "      BRDCST_DE CHNNEL_NM  PROGRM_BEGIN_TIME  PROGRM_END_TIME PROGRM_NM  \\\n",
       "6205   20201231    WeLike             200546           205931     운명과분노   \n",
       "6206   20201231    WeLike             211625           221231     운명과분노   \n",
       "\n",
       "     PROGRM_DC BRDCST_TME_NM PROGRM_BRDCST_AREA_NM  BRDCST_TIME  \\\n",
       "6205       NaN            7회                    전국         5345   \n",
       "6206       NaN            8회                    전국         5606   \n",
       "\n",
       "     PROGRM_GENRE_LCLAS_NM  ... MALE_N50S_WTCHNG_RT MALE_N60S_ABOVE_WTCHNG_RT  \\\n",
       "6205                드라마&영화  ...             0.00213                   0.00000   \n",
       "6206                드라마&영화  ...             0.00000                   0.00688   \n",
       "\n",
       "      FEMALE_4_9YO_WTCHNG_RT  FEMALE_N10S_WTCHNG_RT  FEMALE_N20S_WTCHNG_RT  \\\n",
       "6205                     0.0                    0.0                0.00329   \n",
       "6206                     0.0                    0.0                0.00000   \n",
       "\n",
       "      FEMALE_N30S_WTCHNG_RT  FEMALE_N40S_WTCHNG_RT  FEMALE_N50S_WTCHNG_RT  \\\n",
       "6205                    0.0                0.00576                0.00118   \n",
       "6206                    0.0                0.00000                0.00943   \n",
       "\n",
       "      FEMALE_N60S_ABOVE_WTCHNG_RT  \\\n",
       "6205                          0.0   \n",
       "6206                          0.0   \n",
       "\n",
       "                                                 CST_CN  \n",
       "6205  태인준역:주상욱,구해라역:이민정,차수현역:소이현,진태오역:이기우,태필운역:고인범,한...  \n",
       "6206  태인준역:주상욱,구해라역:이민정,차수현역:소이현,진태오역:이기우,태필운역:고인범,한...  \n",
       "\n",
       "[2 rows x 27 columns]"
      ]
     },
     "execution_count": 54,
     "metadata": {},
     "output_type": "execute_result"
    }
   ],
   "source": [
    "kdf.tail(2)"
   ]
  },
  {
   "cell_type": "code",
   "execution_count": 55,
   "id": "7fe9c34b",
   "metadata": {
    "ExecuteTime": {
     "end_time": "2022-09-30T01:20:08.015799Z",
     "start_time": "2022-09-30T01:20:07.908547Z"
    }
   },
   "outputs": [
    {
     "name": "stdout",
     "output_type": "stream",
     "text": [
      "<class 'pandas.core.frame.DataFrame'>\n",
      "Int64Index: 72177 entries, 0 to 6206\n",
      "Data columns (total 27 columns):\n",
      " #   Column                       Non-Null Count  Dtype  \n",
      "---  ------                       --------------  -----  \n",
      " 0   BRDCST_DE                    72177 non-null  int64  \n",
      " 1   CHNNEL_NM                    72177 non-null  object \n",
      " 2   PROGRM_BEGIN_TIME            72177 non-null  int64  \n",
      " 3   PROGRM_END_TIME              72177 non-null  int64  \n",
      " 4   PROGRM_NM                    72177 non-null  object \n",
      " 5   PROGRM_DC                    4715 non-null   object \n",
      " 6   BRDCST_TME_NM                71930 non-null  object \n",
      " 7   PROGRM_BRDCST_AREA_NM        72177 non-null  object \n",
      " 8   BRDCST_TIME                  72177 non-null  int64  \n",
      " 9   PROGRM_GENRE_LCLAS_NM        72177 non-null  object \n",
      " 10  PROGRM_GENRE_MLSFC_NM        72177 non-null  object \n",
      " 11  PROGRM_GENRE_SCLAS_NM        72177 non-null  object \n",
      " 12  MALE_4_9YO_WTCHNG_RT         72177 non-null  float64\n",
      " 13  MALE_N10S_WTCHNG_RT          72177 non-null  float64\n",
      " 14  MALE_N20S_WTCHNG_RT          72177 non-null  float64\n",
      " 15  MALE_N30S_WTCHNG_RT          72177 non-null  float64\n",
      " 16  MALE_N40S_WTCHNG_RT          72177 non-null  float64\n",
      " 17  MALE_N50S_WTCHNG_RT          72177 non-null  float64\n",
      " 18  MALE_N60S_ABOVE_WTCHNG_RT    72177 non-null  float64\n",
      " 19  FEMALE_4_9YO_WTCHNG_RT       72177 non-null  float64\n",
      " 20  FEMALE_N10S_WTCHNG_RT        72177 non-null  float64\n",
      " 21  FEMALE_N20S_WTCHNG_RT        72177 non-null  float64\n",
      " 22  FEMALE_N30S_WTCHNG_RT        72177 non-null  float64\n",
      " 23  FEMALE_N40S_WTCHNG_RT        72177 non-null  float64\n",
      " 24  FEMALE_N50S_WTCHNG_RT        72177 non-null  float64\n",
      " 25  FEMALE_N60S_ABOVE_WTCHNG_RT  72177 non-null  float64\n",
      " 26  CST_CN                       72157 non-null  object \n",
      "dtypes: float64(14), int64(4), object(9)\n",
      "memory usage: 15.4+ MB\n"
     ]
    }
   ],
   "source": [
    "kdf.info()"
   ]
  },
  {
   "cell_type": "markdown",
   "id": "8871f72d",
   "metadata": {},
   "source": [
    "### 결측치 제거"
   ]
  },
  {
   "cell_type": "code",
   "execution_count": 56,
   "id": "e96f26c6",
   "metadata": {
    "ExecuteTime": {
     "end_time": "2022-09-30T01:20:09.632390Z",
     "start_time": "2022-09-30T01:20:08.662387Z"
    }
   },
   "outputs": [
    {
     "data": {
      "text/plain": [
       "<AxesSubplot:>"
      ]
     },
     "execution_count": 56,
     "metadata": {},
     "output_type": "execute_result"
    },
    {
     "data": {
      "image/png": "[encoded data removed]",
      "text/plain": [
       "<Figure size 1800x720 with 2 Axes>"
      ]
     },
     "metadata": {
      "needs_background": "light"
     },
     "output_type": "display_data"
    }
   ],
   "source": [
    "msno.matrix(kdf)"
   ]
  },
  {
   "cell_type": "code",
   "execution_count": 57,
   "id": "857342a3",
   "metadata": {
    "ExecuteTime": {
     "end_time": "2022-09-30T01:20:10.436023Z",
     "start_time": "2022-09-30T01:20:10.321488Z"
    }
   },
   "outputs": [
    {
     "data": {
      "text/plain": [
       "BRDCST_DE                          0\n",
       "CHNNEL_NM                          0\n",
       "PROGRM_BEGIN_TIME                  0\n",
       "PROGRM_END_TIME                    0\n",
       "PROGRM_NM                          0\n",
       "PROGRM_DC                      67462\n",
       "BRDCST_TME_NM                    247\n",
       "PROGRM_BRDCST_AREA_NM              0\n",
       "BRDCST_TIME                        0\n",
       "PROGRM_GENRE_LCLAS_NM              0\n",
       "PROGRM_GENRE_MLSFC_NM              0\n",
       "PROGRM_GENRE_SCLAS_NM              0\n",
       "MALE_4_9YO_WTCHNG_RT               0\n",
       "MALE_N10S_WTCHNG_RT                0\n",
       "MALE_N20S_WTCHNG_RT                0\n",
       "MALE_N30S_WTCHNG_RT                0\n",
       "MALE_N40S_WTCHNG_RT                0\n",
       "MALE_N50S_WTCHNG_RT                0\n",
       "MALE_N60S_ABOVE_WTCHNG_RT          0\n",
       "FEMALE_4_9YO_WTCHNG_RT             0\n",
       "FEMALE_N10S_WTCHNG_RT              0\n",
       "FEMALE_N20S_WTCHNG_RT              0\n",
       "FEMALE_N30S_WTCHNG_RT              0\n",
       "FEMALE_N40S_WTCHNG_RT              0\n",
       "FEMALE_N50S_WTCHNG_RT              0\n",
       "FEMALE_N60S_ABOVE_WTCHNG_RT        0\n",
       "CST_CN                            20\n",
       "dtype: int64"
      ]
     },
     "execution_count": 57,
     "metadata": {},
     "output_type": "execute_result"
    }
   ],
   "source": [
    "kdf.isnull().sum()"
   ]
  },
  {
   "cell_type": "code",
   "execution_count": 58,
   "id": "f89326d8",
   "metadata": {
    "ExecuteTime": {
     "end_time": "2022-09-30T01:20:11.135722Z",
     "start_time": "2022-09-30T01:20:11.100418Z"
    }
   },
   "outputs": [
    {
     "data": {
      "text/html": [
       "<div>\n",
       "<style scoped>\n",
       "    .dataframe tbody tr th:only-of-type {\n",
       "        vertical-align: middle;\n",
       "    }\n",
       "\n",
       "    .dataframe tbody tr th {\n",
       "        vertical-align: top;\n",
       "    }\n",
       "\n",
       "    .dataframe thead th {\n",
       "        text-align: right;\n",
       "    }\n",
       "</style>\n",
       "<table border=\"1\" class=\"dataframe\">\n",
       "  <thead>\n",
       "    <tr style=\"text-align: right;\">\n",
       "      <th></th>\n",
       "      <th>PROGRM_DC</th>\n",
       "      <th>BRDCST_TME_NM</th>\n",
       "      <th>CST_CN</th>\n",
       "    </tr>\n",
       "  </thead>\n",
       "  <tbody>\n",
       "    <tr>\n",
       "      <th>0</th>\n",
       "      <td>NaN</td>\n",
       "      <td>47회</td>\n",
       "      <td>강여원역:최윤소,봉천동역:설정환,김지훈역:심지호,황수지역:정유민,왕꼰닙역:양희경,황...</td>\n",
       "    </tr>\n",
       "    <tr>\n",
       "      <th>1</th>\n",
       "      <td>NaN</td>\n",
       "      <td>46회</td>\n",
       "      <td>강여원역:최윤소,봉천동역:설정환,김지훈역:심지호,황수지역:정유민,왕꼰닙역:양희경,황...</td>\n",
       "    </tr>\n",
       "    <tr>\n",
       "      <th>2</th>\n",
       "      <td>&lt;13회/14회&gt;</td>\n",
       "      <td>13회/14회</td>\n",
       "      <td>정서연역:조여정,강태우역:김강우,홍인표역:정웅인,윤희주역:오나라,이재훈역:이지훈,윤...</td>\n",
       "    </tr>\n",
       "    <tr>\n",
       "      <th>3</th>\n",
       "      <td>&lt;15회/16회&gt;</td>\n",
       "      <td>15회/16회</td>\n",
       "      <td>정서연역:조여정,강태우역:김강우,홍인표역:정웅인,윤희주역:오나라,이재훈역:이지훈,윤...</td>\n",
       "    </tr>\n",
       "    <tr>\n",
       "      <th>4</th>\n",
       "      <td>NaN</td>\n",
       "      <td>42회</td>\n",
       "      <td>차미연역:최명길,한유진역:차예련,구해준역:김흥수,구재명역:김명수,서은하역:지수원,홍...</td>\n",
       "    </tr>\n",
       "    <tr>\n",
       "      <th>...</th>\n",
       "      <td>...</td>\n",
       "      <td>...</td>\n",
       "      <td>...</td>\n",
       "    </tr>\n",
       "    <tr>\n",
       "      <th>6202</th>\n",
       "      <td>NaN</td>\n",
       "      <td>4회</td>\n",
       "      <td>박해영역:송승헌,이설역:김태희,오윤주역:박예진,남정우역:류수영,박동재역:이순재,오기...</td>\n",
       "    </tr>\n",
       "    <tr>\n",
       "      <th>6203</th>\n",
       "      <td>NaN</td>\n",
       "      <td>5회</td>\n",
       "      <td>태인준역:주상욱,구해라역:이민정,차수현역:소이현,진태오역:이기우,태필운역:고인범,한...</td>\n",
       "    </tr>\n",
       "    <tr>\n",
       "      <th>6204</th>\n",
       "      <td>NaN</td>\n",
       "      <td>6회</td>\n",
       "      <td>태인준역:주상욱,구해라역:이민정,차수현역:소이현,진태오역:이기우,태필운역:고인범,한...</td>\n",
       "    </tr>\n",
       "    <tr>\n",
       "      <th>6205</th>\n",
       "      <td>NaN</td>\n",
       "      <td>7회</td>\n",
       "      <td>태인준역:주상욱,구해라역:이민정,차수현역:소이현,진태오역:이기우,태필운역:고인범,한...</td>\n",
       "    </tr>\n",
       "    <tr>\n",
       "      <th>6206</th>\n",
       "      <td>NaN</td>\n",
       "      <td>8회</td>\n",
       "      <td>태인준역:주상욱,구해라역:이민정,차수현역:소이현,진태오역:이기우,태필운역:고인범,한...</td>\n",
       "    </tr>\n",
       "  </tbody>\n",
       "</table>\n",
       "<p>72177 rows × 3 columns</p>\n",
       "</div>"
      ],
      "text/plain": [
       "      PROGRM_DC BRDCST_TME_NM  \\\n",
       "0           NaN           47회   \n",
       "1           NaN           46회   \n",
       "2     <13회/14회>       13회/14회   \n",
       "3     <15회/16회>       15회/16회   \n",
       "4           NaN           42회   \n",
       "...         ...           ...   \n",
       "6202        NaN            4회   \n",
       "6203        NaN            5회   \n",
       "6204        NaN            6회   \n",
       "6205        NaN            7회   \n",
       "6206        NaN            8회   \n",
       "\n",
       "                                                 CST_CN  \n",
       "0     강여원역:최윤소,봉천동역:설정환,김지훈역:심지호,황수지역:정유민,왕꼰닙역:양희경,황...  \n",
       "1     강여원역:최윤소,봉천동역:설정환,김지훈역:심지호,황수지역:정유민,왕꼰닙역:양희경,황...  \n",
       "2     정서연역:조여정,강태우역:김강우,홍인표역:정웅인,윤희주역:오나라,이재훈역:이지훈,윤...  \n",
       "3     정서연역:조여정,강태우역:김강우,홍인표역:정웅인,윤희주역:오나라,이재훈역:이지훈,윤...  \n",
       "4     차미연역:최명길,한유진역:차예련,구해준역:김흥수,구재명역:김명수,서은하역:지수원,홍...  \n",
       "...                                                 ...  \n",
       "6202  박해영역:송승헌,이설역:김태희,오윤주역:박예진,남정우역:류수영,박동재역:이순재,오기...  \n",
       "6203  태인준역:주상욱,구해라역:이민정,차수현역:소이현,진태오역:이기우,태필운역:고인범,한...  \n",
       "6204  태인준역:주상욱,구해라역:이민정,차수현역:소이현,진태오역:이기우,태필운역:고인범,한...  \n",
       "6205  태인준역:주상욱,구해라역:이민정,차수현역:소이현,진태오역:이기우,태필운역:고인범,한...  \n",
       "6206  태인준역:주상욱,구해라역:이민정,차수현역:소이현,진태오역:이기우,태필운역:고인범,한...  \n",
       "\n",
       "[72177 rows x 3 columns]"
      ]
     },
     "execution_count": 58,
     "metadata": {},
     "output_type": "execute_result"
    }
   ],
   "source": [
    "# 결측값이 있는 열의 내용 탐색 \n",
    "\n",
    "kdf[['PROGRM_DC', 'BRDCST_TME_NM', 'CST_CN']]"
   ]
  },
  {
   "cell_type": "code",
   "execution_count": 59,
   "id": "c250c28d",
   "metadata": {
    "ExecuteTime": {
     "end_time": "2022-09-30T01:20:11.836089Z",
     "start_time": "2022-09-30T01:20:11.818655Z"
    }
   },
   "outputs": [],
   "source": [
    "#'PROGRM_DC'는 불필요하다고 판단 -> 삭제\n",
    "kdf.drop('PROGRM_DC', axis=1, inplace=True)"
   ]
  },
  {
   "cell_type": "code",
   "execution_count": 60,
   "id": "1c2a1aaf",
   "metadata": {
    "ExecuteTime": {
     "end_time": "2022-09-30T01:20:12.587086Z",
     "start_time": "2022-09-30T01:20:12.570870Z"
    }
   },
   "outputs": [],
   "source": [
    "#'BRDCST_TME_NM'는 추후 사용될 수 있는 데이터로 판단 -> 결측값 '0회'로 채우기\n",
    "kdf['BRDCST_TME_NM'].fillna('0회', inplace=True)"
   ]
  },
  {
   "cell_type": "code",
   "execution_count": 61,
   "id": "8c2db007",
   "metadata": {
    "ExecuteTime": {
     "end_time": "2022-09-30T01:20:13.355718Z",
     "start_time": "2022-09-30T01:20:13.342024Z"
    }
   },
   "outputs": [
    {
     "data": {
      "text/plain": [
       "0       강여원역:최윤소,봉천동역:설정환,김지훈역:심지호,황수지역:정유민,왕꼰닙역:양희경,황...\n",
       "1       강여원역:최윤소,봉천동역:설정환,김지훈역:심지호,황수지역:정유민,왕꼰닙역:양희경,황...\n",
       "2       정서연역:조여정,강태우역:김강우,홍인표역:정웅인,윤희주역:오나라,이재훈역:이지훈,윤...\n",
       "3       정서연역:조여정,강태우역:김강우,홍인표역:정웅인,윤희주역:오나라,이재훈역:이지훈,윤...\n",
       "4       차미연역:최명길,한유진역:차예련,구해준역:김흥수,구재명역:김명수,서은하역:지수원,홍...\n",
       "                              ...                        \n",
       "6202    박해영역:송승헌,이설역:김태희,오윤주역:박예진,남정우역:류수영,박동재역:이순재,오기...\n",
       "6203    태인준역:주상욱,구해라역:이민정,차수현역:소이현,진태오역:이기우,태필운역:고인범,한...\n",
       "6204    태인준역:주상욱,구해라역:이민정,차수현역:소이현,진태오역:이기우,태필운역:고인범,한...\n",
       "6205    태인준역:주상욱,구해라역:이민정,차수현역:소이현,진태오역:이기우,태필운역:고인범,한...\n",
       "6206    태인준역:주상욱,구해라역:이민정,차수현역:소이현,진태오역:이기우,태필운역:고인범,한...\n",
       "Name: CST_CN, Length: 72177, dtype: object"
      ]
     },
     "execution_count": 61,
     "metadata": {},
     "output_type": "execute_result"
    }
   ],
   "source": [
    "# 'CST_CN' 출연진 정보 불필요하다고 판단 -> 삭제\n",
    "kdf.pop('CST_CN')"
   ]
  },
  {
   "cell_type": "code",
   "execution_count": 62,
   "id": "5b553f43",
   "metadata": {
    "ExecuteTime": {
     "end_time": "2022-09-30T01:20:15.211085Z",
     "start_time": "2022-09-30T01:20:14.125287Z"
    }
   },
   "outputs": [
    {
     "data": {
      "text/plain": [
       "<AxesSubplot:>"
      ]
     },
     "execution_count": 62,
     "metadata": {},
     "output_type": "execute_result"
    },
    {
     "data": {
      "image/png": "[encoded data removed]",
      "text/plain": [
       "<Figure size 1800x720 with 2 Axes>"
      ]
     },
     "metadata": {
      "needs_background": "light"
     },
     "output_type": "display_data"
    }
   ],
   "source": [
    "msno.matrix(kdf)"
   ]
  },
  {
   "cell_type": "code",
   "execution_count": 63,
   "id": "21a9263f",
   "metadata": {
    "ExecuteTime": {
     "end_time": "2022-09-30T01:20:16.034336Z",
     "start_time": "2022-09-30T01:20:15.950709Z"
    }
   },
   "outputs": [
    {
     "name": "stdout",
     "output_type": "stream",
     "text": [
      "<class 'pandas.core.frame.DataFrame'>\n",
      "Int64Index: 72177 entries, 0 to 6206\n",
      "Data columns (total 25 columns):\n",
      " #   Column                       Non-Null Count  Dtype  \n",
      "---  ------                       --------------  -----  \n",
      " 0   BRDCST_DE                    72177 non-null  int64  \n",
      " 1   CHNNEL_NM                    72177 non-null  object \n",
      " 2   PROGRM_BEGIN_TIME            72177 non-null  int64  \n",
      " 3   PROGRM_END_TIME              72177 non-null  int64  \n",
      " 4   PROGRM_NM                    72177 non-null  object \n",
      " 5   BRDCST_TME_NM                72177 non-null  object \n",
      " 6   PROGRM_BRDCST_AREA_NM        72177 non-null  object \n",
      " 7   BRDCST_TIME                  72177 non-null  int64  \n",
      " 8   PROGRM_GENRE_LCLAS_NM        72177 non-null  object \n",
      " 9   PROGRM_GENRE_MLSFC_NM        72177 non-null  object \n",
      " 10  PROGRM_GENRE_SCLAS_NM        72177 non-null  object \n",
      " 11  MALE_4_9YO_WTCHNG_RT         72177 non-null  float64\n",
      " 12  MALE_N10S_WTCHNG_RT          72177 non-null  float64\n",
      " 13  MALE_N20S_WTCHNG_RT          72177 non-null  float64\n",
      " 14  MALE_N30S_WTCHNG_RT          72177 non-null  float64\n",
      " 15  MALE_N40S_WTCHNG_RT          72177 non-null  float64\n",
      " 16  MALE_N50S_WTCHNG_RT          72177 non-null  float64\n",
      " 17  MALE_N60S_ABOVE_WTCHNG_RT    72177 non-null  float64\n",
      " 18  FEMALE_4_9YO_WTCHNG_RT       72177 non-null  float64\n",
      " 19  FEMALE_N10S_WTCHNG_RT        72177 non-null  float64\n",
      " 20  FEMALE_N20S_WTCHNG_RT        72177 non-null  float64\n",
      " 21  FEMALE_N30S_WTCHNG_RT        72177 non-null  float64\n",
      " 22  FEMALE_N40S_WTCHNG_RT        72177 non-null  float64\n",
      " 23  FEMALE_N50S_WTCHNG_RT        72177 non-null  float64\n",
      " 24  FEMALE_N60S_ABOVE_WTCHNG_RT  72177 non-null  float64\n",
      "dtypes: float64(14), int64(4), object(7)\n",
      "memory usage: 14.3+ MB\n"
     ]
    }
   ],
   "source": [
    "kdf.info()"
   ]
  },
  {
   "cell_type": "markdown",
   "id": "fc60c121",
   "metadata": {
    "ExecuteTime": {
     "end_time": "2022-09-30T01:42:09.855528Z",
     "start_time": "2022-09-30T01:42:09.843765Z"
    }
   },
   "source": [
    "### 파생변수 생성"
   ]
  },
  {
   "cell_type": "code",
   "execution_count": 64,
   "id": "e600e675",
   "metadata": {
    "ExecuteTime": {
     "end_time": "2022-09-30T01:20:16.792431Z",
     "start_time": "2022-09-30T01:20:16.778661Z"
    }
   },
   "outputs": [],
   "source": [
    "# 연령별/성별로 나누어진 시청율에서 성별을 통합하여 새로운 Column 추가\n",
    "# 시청율이기에 'Sum'을 할지 'mean'을 할지 고민 -> 시청률 = 가구수라고 생각하여 sum으로 결정\n",
    "\n",
    "kdf['ALL_4_9YO_WTCHNG_RT'] = kdf['MALE_4_9YO_WTCHNG_RT'] + kdf['FEMALE_4_9YO_WTCHNG_RT']\n",
    "kdf['ALL_N50S_WTCHNG_RT'] = kdf['MALE_N50S_WTCHNG_RT'] + kdf['FEMALE_N50S_WTCHNG_RT']"
   ]
  },
  {
   "cell_type": "code",
   "execution_count": 65,
   "id": "4db95c06",
   "metadata": {
    "ExecuteTime": {
     "end_time": "2022-09-30T01:20:17.614328Z",
     "start_time": "2022-09-30T01:20:17.562244Z"
    }
   },
   "outputs": [],
   "source": [
    "# '20200101'로 되어있는 데이터를 날짜 형식(2020-01-01)으로 변경\n",
    "\n",
    "import datetime\n",
    "kdf['BRDCST_DE'] = kdf['BRDCST_DE'].astype(str)\n",
    "kdf['BRDCST_DE'] = pd.to_datetime(kdf['BRDCST_DE'])"
   ]
  },
  {
   "cell_type": "code",
   "execution_count": 66,
   "id": "90b1ec97",
   "metadata": {
    "ExecuteTime": {
     "end_time": "2022-09-30T01:20:18.765779Z",
     "start_time": "2022-09-30T01:20:18.317175Z"
    }
   },
   "outputs": [],
   "source": [
    "# 날짜 데이터에서'MONTH'정보 추출하여 새로운 Column 추가\n",
    "\n",
    "kdf['MONTH'] = kdf['BRDCST_DE'].dt.strftime('%m')"
   ]
  },
  {
   "cell_type": "code",
   "execution_count": 67,
   "id": "7d278864",
   "metadata": {
    "ExecuteTime": {
     "end_time": "2022-09-30T01:20:19.447905Z",
     "start_time": "2022-09-30T01:20:19.421301Z"
    }
   },
   "outputs": [
    {
     "data": {
      "text/plain": [
       "07    6630\n",
       "10    6448\n",
       "04    6300\n",
       "05    6294\n",
       "12    6207\n",
       "01    6110\n",
       "09    6107\n",
       "06    6063\n",
       "08    5758\n",
       "03    5559\n",
       "02    5368\n",
       "11    5333\n",
       "Name: MONTH, dtype: int64"
      ]
     },
     "execution_count": 67,
     "metadata": {},
     "output_type": "execute_result"
    }
   ],
   "source": [
    "kdf['MONTH'].value_counts()"
   ]
  },
  {
   "cell_type": "code",
   "execution_count": 68,
   "id": "8f26264c",
   "metadata": {
    "ExecuteTime": {
     "end_time": "2022-09-30T01:20:20.165260Z",
     "start_time": "2022-09-30T01:20:20.132868Z"
    }
   },
   "outputs": [],
   "source": [
    "# MONTH 단위로 groupby 실행\n",
    "\n",
    "kdf1 = kdf.groupby('MONTH').sum().sort_values('MONTH') "
   ]
  },
  {
   "cell_type": "code",
   "execution_count": 69,
   "id": "3a1e46d8",
   "metadata": {
    "ExecuteTime": {
     "end_time": "2022-09-30T01:20:20.898300Z",
     "start_time": "2022-09-30T01:20:20.855934Z"
    }
   },
   "outputs": [
    {
     "data": {
      "text/html": [
       "<div>\n",
       "<style scoped>\n",
       "    .dataframe tbody tr th:only-of-type {\n",
       "        vertical-align: middle;\n",
       "    }\n",
       "\n",
       "    .dataframe tbody tr th {\n",
       "        vertical-align: top;\n",
       "    }\n",
       "\n",
       "    .dataframe thead th {\n",
       "        text-align: right;\n",
       "    }\n",
       "</style>\n",
       "<table border=\"1\" class=\"dataframe\">\n",
       "  <thead>\n",
       "    <tr style=\"text-align: right;\">\n",
       "      <th></th>\n",
       "      <th>PROGRM_BEGIN_TIME</th>\n",
       "      <th>PROGRM_END_TIME</th>\n",
       "      <th>BRDCST_TIME</th>\n",
       "      <th>MALE_4_9YO_WTCHNG_RT</th>\n",
       "      <th>MALE_N10S_WTCHNG_RT</th>\n",
       "      <th>MALE_N20S_WTCHNG_RT</th>\n",
       "      <th>MALE_N30S_WTCHNG_RT</th>\n",
       "      <th>MALE_N40S_WTCHNG_RT</th>\n",
       "      <th>MALE_N50S_WTCHNG_RT</th>\n",
       "      <th>MALE_N60S_ABOVE_WTCHNG_RT</th>\n",
       "      <th>FEMALE_4_9YO_WTCHNG_RT</th>\n",
       "      <th>FEMALE_N10S_WTCHNG_RT</th>\n",
       "      <th>FEMALE_N20S_WTCHNG_RT</th>\n",
       "      <th>FEMALE_N30S_WTCHNG_RT</th>\n",
       "      <th>FEMALE_N40S_WTCHNG_RT</th>\n",
       "      <th>FEMALE_N50S_WTCHNG_RT</th>\n",
       "      <th>FEMALE_N60S_ABOVE_WTCHNG_RT</th>\n",
       "      <th>ALL_4_9YO_WTCHNG_RT</th>\n",
       "      <th>ALL_N50S_WTCHNG_RT</th>\n",
       "    </tr>\n",
       "    <tr>\n",
       "      <th>MONTH</th>\n",
       "      <th></th>\n",
       "      <th></th>\n",
       "      <th></th>\n",
       "      <th></th>\n",
       "      <th></th>\n",
       "      <th></th>\n",
       "      <th></th>\n",
       "      <th></th>\n",
       "      <th></th>\n",
       "      <th></th>\n",
       "      <th></th>\n",
       "      <th></th>\n",
       "      <th></th>\n",
       "      <th></th>\n",
       "      <th></th>\n",
       "      <th></th>\n",
       "      <th></th>\n",
       "      <th></th>\n",
       "      <th></th>\n",
       "    </tr>\n",
       "  </thead>\n",
       "  <tbody>\n",
       "    <tr>\n",
       "      <th>01</th>\n",
       "      <td>876077019</td>\n",
       "      <td>925052774</td>\n",
       "      <td>41185155</td>\n",
       "      <td>875.40848</td>\n",
       "      <td>1022.72715</td>\n",
       "      <td>769.69165</td>\n",
       "      <td>1261.36132</td>\n",
       "      <td>1697.49096</td>\n",
       "      <td>2578.8320</td>\n",
       "      <td>3361.33940</td>\n",
       "      <td>650.32398</td>\n",
       "      <td>1042.93701</td>\n",
       "      <td>1113.36323</td>\n",
       "      <td>1719.75684</td>\n",
       "      <td>2831.75228</td>\n",
       "      <td>3618.14506</td>\n",
       "      <td>4043.32173</td>\n",
       "      <td>1525.73246</td>\n",
       "      <td>6196.97706</td>\n",
       "    </tr>\n",
       "    <tr>\n",
       "      <th>02</th>\n",
       "      <td>741068502</td>\n",
       "      <td>787158212</td>\n",
       "      <td>39353230</td>\n",
       "      <td>1120.87774</td>\n",
       "      <td>1179.45794</td>\n",
       "      <td>786.04720</td>\n",
       "      <td>1184.29797</td>\n",
       "      <td>1829.57829</td>\n",
       "      <td>2634.6846</td>\n",
       "      <td>3299.40034</td>\n",
       "      <td>810.70791</td>\n",
       "      <td>1159.92803</td>\n",
       "      <td>1144.89189</td>\n",
       "      <td>1712.25837</td>\n",
       "      <td>2918.26664</td>\n",
       "      <td>3647.79861</td>\n",
       "      <td>4124.74506</td>\n",
       "      <td>1931.58565</td>\n",
       "      <td>6282.48321</td>\n",
       "    </tr>\n",
       "  </tbody>\n",
       "</table>\n",
       "</div>"
      ],
      "text/plain": [
       "       PROGRM_BEGIN_TIME  PROGRM_END_TIME  BRDCST_TIME  MALE_4_9YO_WTCHNG_RT  \\\n",
       "MONTH                                                                          \n",
       "01             876077019        925052774     41185155             875.40848   \n",
       "02             741068502        787158212     39353230            1120.87774   \n",
       "\n",
       "       MALE_N10S_WTCHNG_RT  MALE_N20S_WTCHNG_RT  MALE_N30S_WTCHNG_RT  \\\n",
       "MONTH                                                                  \n",
       "01              1022.72715            769.69165           1261.36132   \n",
       "02              1179.45794            786.04720           1184.29797   \n",
       "\n",
       "       MALE_N40S_WTCHNG_RT  MALE_N50S_WTCHNG_RT  MALE_N60S_ABOVE_WTCHNG_RT  \\\n",
       "MONTH                                                                        \n",
       "01              1697.49096            2578.8320                 3361.33940   \n",
       "02              1829.57829            2634.6846                 3299.40034   \n",
       "\n",
       "       FEMALE_4_9YO_WTCHNG_RT  FEMALE_N10S_WTCHNG_RT  FEMALE_N20S_WTCHNG_RT  \\\n",
       "MONTH                                                                         \n",
       "01                  650.32398             1042.93701             1113.36323   \n",
       "02                  810.70791             1159.92803             1144.89189   \n",
       "\n",
       "       FEMALE_N30S_WTCHNG_RT  FEMALE_N40S_WTCHNG_RT  FEMALE_N50S_WTCHNG_RT  \\\n",
       "MONTH                                                                        \n",
       "01                1719.75684             2831.75228             3618.14506   \n",
       "02                1712.25837             2918.26664             3647.79861   \n",
       "\n",
       "       FEMALE_N60S_ABOVE_WTCHNG_RT  ALL_4_9YO_WTCHNG_RT  ALL_N50S_WTCHNG_RT  \n",
       "MONTH                                                                        \n",
       "01                      4043.32173           1525.73246          6196.97706  \n",
       "02                      4124.74506           1931.58565          6282.48321  "
      ]
     },
     "execution_count": 69,
     "metadata": {},
     "output_type": "execute_result"
    }
   ],
   "source": [
    "kdf1.head(2)"
   ]
  },
  {
   "cell_type": "code",
   "execution_count": 70,
   "id": "543ed528",
   "metadata": {
    "ExecuteTime": {
     "end_time": "2022-09-30T01:20:21.673641Z",
     "start_time": "2022-09-30T01:20:21.667062Z"
    }
   },
   "outputs": [],
   "source": [
    "# 인덱스를 칼럼으로 바꾸기\n",
    "kdf1 = kdf1.reset_index().rename(columns={\"index\": \"MONTH\"})"
   ]
  },
  {
   "cell_type": "code",
   "execution_count": 71,
   "id": "6cf41b38",
   "metadata": {
    "ExecuteTime": {
     "end_time": "2022-09-30T01:20:22.408825Z",
     "start_time": "2022-09-30T01:20:22.396047Z"
    }
   },
   "outputs": [
    {
     "data": {
      "text/html": [
       "<div>\n",
       "<style scoped>\n",
       "    .dataframe tbody tr th:only-of-type {\n",
       "        vertical-align: middle;\n",
       "    }\n",
       "\n",
       "    .dataframe tbody tr th {\n",
       "        vertical-align: top;\n",
       "    }\n",
       "\n",
       "    .dataframe thead th {\n",
       "        text-align: right;\n",
       "    }\n",
       "</style>\n",
       "<table border=\"1\" class=\"dataframe\">\n",
       "  <thead>\n",
       "    <tr style=\"text-align: right;\">\n",
       "      <th></th>\n",
       "      <th>MONTH</th>\n",
       "      <th>ALL_4_9YO_WTCHNG_RT</th>\n",
       "      <th>ALL_N50S_WTCHNG_RT</th>\n",
       "    </tr>\n",
       "  </thead>\n",
       "  <tbody>\n",
       "    <tr>\n",
       "      <th>0</th>\n",
       "      <td>01</td>\n",
       "      <td>1525.73246</td>\n",
       "      <td>6196.97706</td>\n",
       "    </tr>\n",
       "    <tr>\n",
       "      <th>1</th>\n",
       "      <td>02</td>\n",
       "      <td>1931.58565</td>\n",
       "      <td>6282.48321</td>\n",
       "    </tr>\n",
       "    <tr>\n",
       "      <th>2</th>\n",
       "      <td>03</td>\n",
       "      <td>1587.87166</td>\n",
       "      <td>5078.64466</td>\n",
       "    </tr>\n",
       "    <tr>\n",
       "      <th>3</th>\n",
       "      <td>04</td>\n",
       "      <td>1766.00003</td>\n",
       "      <td>5446.02134</td>\n",
       "    </tr>\n",
       "    <tr>\n",
       "      <th>4</th>\n",
       "      <td>05</td>\n",
       "      <td>1850.25643</td>\n",
       "      <td>5526.94552</td>\n",
       "    </tr>\n",
       "    <tr>\n",
       "      <th>5</th>\n",
       "      <td>06</td>\n",
       "      <td>1525.82514</td>\n",
       "      <td>4797.48470</td>\n",
       "    </tr>\n",
       "    <tr>\n",
       "      <th>6</th>\n",
       "      <td>07</td>\n",
       "      <td>1479.98335</td>\n",
       "      <td>5037.65137</td>\n",
       "    </tr>\n",
       "    <tr>\n",
       "      <th>7</th>\n",
       "      <td>08</td>\n",
       "      <td>1539.94523</td>\n",
       "      <td>4934.06907</td>\n",
       "    </tr>\n",
       "    <tr>\n",
       "      <th>8</th>\n",
       "      <td>09</td>\n",
       "      <td>1612.49582</td>\n",
       "      <td>4524.46565</td>\n",
       "    </tr>\n",
       "    <tr>\n",
       "      <th>9</th>\n",
       "      <td>10</td>\n",
       "      <td>1491.90585</td>\n",
       "      <td>4252.75675</td>\n",
       "    </tr>\n",
       "    <tr>\n",
       "      <th>10</th>\n",
       "      <td>11</td>\n",
       "      <td>1004.52576</td>\n",
       "      <td>3194.02889</td>\n",
       "    </tr>\n",
       "    <tr>\n",
       "      <th>11</th>\n",
       "      <td>12</td>\n",
       "      <td>2061.45989</td>\n",
       "      <td>5713.16041</td>\n",
       "    </tr>\n",
       "  </tbody>\n",
       "</table>\n",
       "</div>"
      ],
      "text/plain": [
       "   MONTH  ALL_4_9YO_WTCHNG_RT  ALL_N50S_WTCHNG_RT\n",
       "0     01           1525.73246          6196.97706\n",
       "1     02           1931.58565          6282.48321\n",
       "2     03           1587.87166          5078.64466\n",
       "3     04           1766.00003          5446.02134\n",
       "4     05           1850.25643          5526.94552\n",
       "5     06           1525.82514          4797.48470\n",
       "6     07           1479.98335          5037.65137\n",
       "7     08           1539.94523          4934.06907\n",
       "8     09           1612.49582          4524.46565\n",
       "9     10           1491.90585          4252.75675\n",
       "10    11           1004.52576          3194.02889\n",
       "11    12           2061.45989          5713.16041"
      ]
     },
     "execution_count": 71,
     "metadata": {},
     "output_type": "execute_result"
    }
   ],
   "source": [
    "kdf1[['MONTH', 'ALL_4_9YO_WTCHNG_RT', 'ALL_N50S_WTCHNG_RT']]"
   ]
  },
  {
   "cell_type": "markdown",
   "id": "e0261cf2",
   "metadata": {},
   "source": [
    "## 시각화"
   ]
  },
  {
   "cell_type": "markdown",
   "id": "5016970a",
   "metadata": {},
   "source": [
    "### 4-9세와 50대의 월별 시청율 비교"
   ]
  },
  {
   "cell_type": "code",
   "execution_count": 72,
   "id": "f7526ba2",
   "metadata": {
    "ExecuteTime": {
     "end_time": "2022-09-30T01:20:23.381392Z",
     "start_time": "2022-09-30T01:20:23.145978Z"
    }
   },
   "outputs": [
    {
     "data": {
      "image/png": "[encoded data removed]",
      "text/plain": [
       "<Figure size 720x504 with 1 Axes>"
      ]
     },
     "metadata": {
      "needs_background": "light"
     },
     "output_type": "display_data"
    }
   ],
   "source": [
    "# 선 그래프로 시각화\n",
    "\n",
    "x = kdf1['MONTH']\n",
    "y1 = kdf1['ALL_4_9YO_WTCHNG_RT']\n",
    "y2 = kdf1['ALL_N50S_WTCHNG_RT']\n",
    "\n",
    "plt.figure(figsize=(10, 7))\n",
    "plt.title('4_9YO and N50S WTCHNG_RT')\n",
    "\n",
    "plt.plot(x, y1, label='4_9YO')\n",
    "plt.plot(x, y2, 'r--', label='N50S')\n",
    "plt.ylabel('WTCHNG_RT')\n",
    "plt.xlabel('MONTH')\n",
    "\n",
    "plt.legend(loc='best')\n",
    "plt.tight_layout() \n",
    "plt.show()"
   ]
  },
  {
   "cell_type": "markdown",
   "id": "a10fd614",
   "metadata": {},
   "source": [
    "- 두 그래프의 추세가 비슷하기에 세웠던 가설 맞다고 판단"
   ]
  },
  {
   "cell_type": "markdown",
   "id": "6807760d",
   "metadata": {},
   "source": [
    "### 다른 연령대의 시청율은 어떨까?"
   ]
  },
  {
   "cell_type": "code",
   "execution_count": 73,
   "id": "80a96ebe",
   "metadata": {
    "ExecuteTime": {
     "end_time": "2022-09-30T01:21:46.864551Z",
     "start_time": "2022-09-30T01:21:46.847230Z"
    }
   },
   "outputs": [],
   "source": [
    "kdf['ALL_N10S_WTCHNG_RT'] = kdf['MALE_N10S_WTCHNG_RT'] + kdf['FEMALE_N10S_WTCHNG_RT']\n",
    "kdf['ALL_N20S_WTCHNG_RT'] = kdf['MALE_N20S_WTCHNG_RT'] + kdf['FEMALE_N20S_WTCHNG_RT']\n",
    "kdf['ALL_N30S_WTCHNG_RT'] = kdf['MALE_N30S_WTCHNG_RT'] + kdf['FEMALE_N30S_WTCHNG_RT']\n",
    "kdf['ALL_N40S_WTCHNG_RT'] = kdf['MALE_N40S_WTCHNG_RT'] + kdf['FEMALE_N40S_WTCHNG_RT']\n",
    "kdf['ALL_N60S_ABOVE_WTCHNG_RT'] = kdf['MALE_N60S_ABOVE_WTCHNG_RT'] + kdf['FEMALE_N60S_ABOVE_WTCHNG_RT']"
   ]
  },
  {
   "cell_type": "code",
   "execution_count": 74,
   "id": "11413cd5",
   "metadata": {
    "ExecuteTime": {
     "end_time": "2022-09-30T01:21:47.587125Z",
     "start_time": "2022-09-30T01:21:47.551821Z"
    }
   },
   "outputs": [],
   "source": [
    "kdf2 = kdf.groupby('MONTH').sum().sort_values('MONTH').reset_index().rename(columns={\"index\": \"MONTH\"})"
   ]
  },
  {
   "cell_type": "code",
   "execution_count": 75,
   "id": "ef4a121d",
   "metadata": {
    "ExecuteTime": {
     "end_time": "2022-09-30T01:21:49.690139Z",
     "start_time": "2022-09-30T01:21:49.185906Z"
    }
   },
   "outputs": [
    {
     "data": {
      "image/png": "[encoded data removed]",
      "text/plain": [
       "<Figure size 720x504 with 1 Axes>"
      ]
     },
     "metadata": {
      "needs_background": "light"
     },
     "output_type": "display_data"
    }
   ],
   "source": [
    "x = kdf2['MONTH']\n",
    "y1 = kdf2['ALL_4_9YO_WTCHNG_RT']\n",
    "y2 = kdf2['ALL_N50S_WTCHNG_RT']\n",
    "y3 = kdf2['ALL_N10S_WTCHNG_RT']\n",
    "y4 = kdf2['ALL_N20S_WTCHNG_RT']\n",
    "y5 = kdf2['ALL_N30S_WTCHNG_RT']\n",
    "y6 = kdf2['ALL_N40S_WTCHNG_RT']\n",
    "y7 = kdf2['ALL_N60S_ABOVE_WTCHNG_RT']\n",
    "\n",
    "plt.figure(figsize=(10, 7))\n",
    "plt.title('ALL AGES WTCHNG_RT')\n",
    "\n",
    "plt.plot(x, y1, label='4_9YO')\n",
    "plt.plot(x, y2, 'r--', label='N50S')\n",
    "plt.plot(x, y3, 'g-', label='N10S')\n",
    "plt.plot(x, y4, 'b:', label='N20S')\n",
    "plt.plot(x, y5, 'c-', label='N30S')\n",
    "plt.plot(x, y6, 'y', label='N40S')\n",
    "plt.plot(x, y7, 'p:', label='N60S_ABOVE')\n",
    "plt.ylabel('WTCHNG_RT')\n",
    "plt.xlabel('MONTH')\n",
    "\n",
    "plt.legend(loc='best')\n",
    "plt.tight_layout() \n",
    "plt.show()"
   ]
  },
  {
   "cell_type": "markdown",
   "id": "8781ac5d",
   "metadata": {
    "ExecuteTime": {
     "end_time": "2022-09-28T02:09:38.512447Z",
     "start_time": "2022-09-28T02:09:38.485352Z"
    }
   },
   "source": [
    "- 다른 연령대에서 비슷한 추세가 나타나는 것으로 보아, 처음 세웠던 가설과 결과가 크게 유의미하지 않다는 것으로 판단."
   ]
  },
  {
   "cell_type": "markdown",
   "id": "e112354c",
   "metadata": {},
   "source": [
    "- 데이터의 시청율이 Rate(%)값이기에 비율을 합산이나 평균낼 시 적절한 데이터 분석이 불가할 것으로 판단하여, 다른 주제를 추가로 정함."
   ]
  }
 ],
 "metadata": {
  "kernelspec": {
   "display_name": "Python 3 (ipykernel)",
   "language": "python",
   "name": "python3"
  },
  "language_info": {
   "codemirror_mode": {
    "name": "ipython",
    "version": 3
   },
   "file_extension": ".py",
   "mimetype": "text/x-python",
   "name": "python",
   "nbconvert_exporter": "python",
   "pygments_lexer": "ipython3",
   "version": "3.9.12"
  },
  "toc": {
   "base_numbering": 1,
   "nav_menu": {},
   "number_sections": true,
   "sideBar": true,
   "skip_h1_title": false,
   "title_cell": "Table of Contents",
   "title_sidebar": "Contents",
   "toc_cell": false,
   "toc_position": {},
   "toc_section_display": true,
   "toc_window_display": false
  },
  "varInspector": {
   "cols": {
    "lenName": 16,
    "lenType": 16,
    "lenVar": 40
   },
   "kernels_config": {
    "python": {
     "delete_cmd_postfix": "",
     "delete_cmd_prefix": "del ",
     "library": "var_list.py",
     "varRefreshCmd": "print(var_dic_list())"
    },
    "r": {
     "delete_cmd_postfix": ") ",
     "delete_cmd_prefix": "rm(",
     "library": "var_list.r",
     "varRefreshCmd": "cat(var_dic_list()) "
    }
   },
   "types_to_exclude": [
    "module",
    "function",
    "builtin_function_or_method",
    "instance",
    "_Feature"
   ],
   "window_display": false
  }
 },
 "nbformat": 4,
 "nbformat_minor": 5
}
